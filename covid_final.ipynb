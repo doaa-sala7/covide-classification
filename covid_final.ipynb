{
  "cells": [
    {
      "cell_type": "code",
      "execution_count": 1,
      "metadata": {
        "colab": {
          "base_uri": "https://localhost:8080/"
        },
        "id": "QNvHbn5KVMt7",
        "outputId": "386cfef1-72c7-4ab9-befb-5e4539614ec0"
      },
      "outputs": [
        {
          "output_type": "stream",
          "name": "stdout",
          "text": [
            "Drive already mounted at /content/drive; to attempt to forcibly remount, call drive.mount(\"/content/drive\", force_remount=True).\n"
          ]
        }
      ],
      "source": [
        "from google.colab import drive\n",
        "drive.mount('/content/drive')"
      ]
    },
    {
      "cell_type": "code",
      "execution_count": 2,
      "metadata": {
        "id": "2PWOK3xdXGO6"
      },
      "outputs": [],
      "source": [
        "!cp /content/drive/MyDrive/kaggle/kaggle.json ~/.kaggle/kaggle.json\n",
        "! chmod 600 ~/.kaggle/kaggle.json"
      ]
    },
    {
      "cell_type": "code",
      "execution_count": 3,
      "metadata": {
        "id": "naFXFDt2XJLJ",
        "colab": {
          "base_uri": "https://localhost:8080/"
        },
        "outputId": "304c423f-c06c-46ee-f1ec-84632c494002"
      },
      "outputs": [
        {
          "output_type": "stream",
          "name": "stdout",
          "text": [
            "covid19-image-dataset.zip: Skipping, found more recently modified local copy (use --force to force download)\n",
            "Archive:  covid19-image-dataset.zip\n",
            "replace Covid19-dataset/test/Covid/0100.jpeg? [y]es, [n]o, [A]ll, [N]one, [r]ename: n\n",
            "replace Covid19-dataset/test/Covid/0102.jpeg? [y]es, [n]o, [A]ll, [N]one, [r]ename: A\n",
            "  inflating: Covid19-dataset/test/Covid/0102.jpeg  \n",
            "  inflating: Covid19-dataset/test/Covid/0105.png  \n",
            "  inflating: Covid19-dataset/test/Covid/0106.jpeg  \n",
            "  inflating: Covid19-dataset/test/Covid/0108.jpeg  \n",
            "  inflating: Covid19-dataset/test/Covid/0111.jpg  \n",
            "  inflating: Covid19-dataset/test/Covid/0112.jpg  \n",
            "  inflating: Covid19-dataset/test/Covid/0113.jpg  \n",
            "  inflating: Covid19-dataset/test/Covid/0115.jpeg  \n",
            "  inflating: Covid19-dataset/test/Covid/0118.jpeg  \n",
            "  inflating: Covid19-dataset/test/Covid/0119.jpeg  \n",
            "  inflating: Covid19-dataset/test/Covid/0120.jpg  \n",
            "  inflating: Covid19-dataset/test/Covid/094.png  \n",
            "  inflating: Covid19-dataset/test/Covid/096.png  \n",
            "  inflating: Covid19-dataset/test/Covid/098.jpeg  \n",
            "  inflating: Covid19-dataset/test/Covid/COVID-00003b.jpg  \n",
            "  inflating: Covid19-dataset/test/Covid/COVID-00012.jpg  \n",
            "  inflating: Covid19-dataset/test/Covid/COVID-00022.jpg  \n",
            "  inflating: Covid19-dataset/test/Covid/COVID-00033.jpg  \n",
            "  inflating: Covid19-dataset/test/Covid/COVID-00037.jpg  \n",
            "  inflating: Covid19-dataset/test/Covid/auntminnie-2020_01_31_20_24_2322_2020_01_31_x-ray_coronavirus_US.jpg  \n",
            "  inflating: Covid19-dataset/test/Covid/auntminnie-a-2020_01_28_23_51_6665_2020_01_28_Vietnam_coronavirus.jpeg  \n",
            "  inflating: Covid19-dataset/test/Covid/auntminnie-b-2020_01_28_23_51_6665_2020_01_28_Vietnam_coronavirus.jpeg  \n",
            "  inflating: Covid19-dataset/test/Covid/auntminnie-c-2020_01_28_23_51_6665_2020_01_28_Vietnam_coronavirus.jpeg  \n",
            "  inflating: Covid19-dataset/test/Covid/auntminnie-d-2020_01_28_23_51_6665_2020_01_28_Vietnam_coronavirus.jpeg  \n",
            "  inflating: Covid19-dataset/test/Covid/radiopaedia-2019-novel-coronavirus-infected-pneumonia.jpg  \n",
            "  inflating: Covid19-dataset/test/Normal/0101.jpeg  \n",
            "  inflating: Covid19-dataset/test/Normal/0102.jpeg  \n",
            "  inflating: Covid19-dataset/test/Normal/0103.jpeg  \n",
            "  inflating: Covid19-dataset/test/Normal/0105.jpeg  \n",
            "  inflating: Covid19-dataset/test/Normal/0106.jpeg  \n",
            "  inflating: Covid19-dataset/test/Normal/0107.jpeg  \n",
            "  inflating: Covid19-dataset/test/Normal/0108.jpeg  \n",
            "  inflating: Covid19-dataset/test/Normal/0109.jpeg  \n",
            "  inflating: Covid19-dataset/test/Normal/0110.jpeg  \n",
            "  inflating: Covid19-dataset/test/Normal/0111.jpeg  \n",
            "  inflating: Covid19-dataset/test/Normal/0112.jpeg  \n",
            "  inflating: Covid19-dataset/test/Normal/0114.jpeg  \n",
            "  inflating: Covid19-dataset/test/Normal/0115.jpeg  \n",
            "  inflating: Covid19-dataset/test/Normal/0116.jpeg  \n",
            "  inflating: Covid19-dataset/test/Normal/0117.jpeg  \n",
            "  inflating: Covid19-dataset/test/Normal/0118.jpeg  \n",
            "  inflating: Covid19-dataset/test/Normal/0119.jpeg  \n",
            "  inflating: Covid19-dataset/test/Normal/0120.jpeg  \n",
            "  inflating: Covid19-dataset/test/Normal/0121.jpeg  \n",
            "  inflating: Covid19-dataset/test/Normal/0122.jpeg  \n",
            "  inflating: Covid19-dataset/test/Viral Pneumonia/0101.jpeg  \n",
            "  inflating: Covid19-dataset/test/Viral Pneumonia/0102.jpeg  \n",
            "  inflating: Covid19-dataset/test/Viral Pneumonia/0103.jpeg  \n",
            "  inflating: Covid19-dataset/test/Viral Pneumonia/0104.jpeg  \n",
            "  inflating: Covid19-dataset/test/Viral Pneumonia/0105.jpeg  \n",
            "  inflating: Covid19-dataset/test/Viral Pneumonia/0106.jpeg  \n",
            "  inflating: Covid19-dataset/test/Viral Pneumonia/0107.jpeg  \n",
            "  inflating: Covid19-dataset/test/Viral Pneumonia/0108.jpeg  \n",
            "  inflating: Covid19-dataset/test/Viral Pneumonia/0109.jpeg  \n",
            "  inflating: Covid19-dataset/test/Viral Pneumonia/0110.jpeg  \n",
            "  inflating: Covid19-dataset/test/Viral Pneumonia/0111.jpeg  \n",
            "  inflating: Covid19-dataset/test/Viral Pneumonia/0112.jpeg  \n",
            "  inflating: Covid19-dataset/test/Viral Pneumonia/0113.jpeg  \n",
            "  inflating: Covid19-dataset/test/Viral Pneumonia/0114.jpeg  \n",
            "  inflating: Covid19-dataset/test/Viral Pneumonia/0115.jpeg  \n",
            "  inflating: Covid19-dataset/test/Viral Pneumonia/0116.jpeg  \n",
            "  inflating: Covid19-dataset/test/Viral Pneumonia/0117.jpeg  \n",
            "  inflating: Covid19-dataset/test/Viral Pneumonia/0118.jpeg  \n",
            "  inflating: Covid19-dataset/test/Viral Pneumonia/0119.jpeg  \n",
            "  inflating: Covid19-dataset/test/Viral Pneumonia/0120.jpeg  \n",
            "  inflating: Covid19-dataset/train/Covid/01.jpeg  \n",
            "  inflating: Covid19-dataset/train/Covid/010.png  \n",
            "  inflating: Covid19-dataset/train/Covid/012.jpeg  \n",
            "  inflating: Covid19-dataset/train/Covid/015.jpg  \n",
            "  inflating: Covid19-dataset/train/Covid/019.png  \n",
            "  inflating: Covid19-dataset/train/Covid/02.jpeg  \n",
            "  inflating: Covid19-dataset/train/Covid/020.jpg  \n",
            "  inflating: Covid19-dataset/train/Covid/021.jpeg  \n",
            "  inflating: Covid19-dataset/train/Covid/022.jpeg  \n",
            "  inflating: Covid19-dataset/train/Covid/024.jpeg  \n",
            "  inflating: Covid19-dataset/train/Covid/025.jpeg  \n",
            "  inflating: Covid19-dataset/train/Covid/026.jpeg  \n",
            "  inflating: Covid19-dataset/train/Covid/027.jpeg  \n",
            "  inflating: Covid19-dataset/train/Covid/03.jpeg  \n",
            "  inflating: Covid19-dataset/train/Covid/031.jpeg  \n",
            "  inflating: Covid19-dataset/train/Covid/032.jpeg  \n",
            "  inflating: Covid19-dataset/train/Covid/033.png  \n",
            "  inflating: Covid19-dataset/train/Covid/039.jpeg  \n",
            "  inflating: Covid19-dataset/train/Covid/04.png  \n",
            "  inflating: Covid19-dataset/train/Covid/040.jpeg  \n",
            "  inflating: Covid19-dataset/train/Covid/041.jpeg  \n",
            "  inflating: Covid19-dataset/train/Covid/042.jpeg  \n",
            "  inflating: Covid19-dataset/train/Covid/043.jpeg  \n",
            "  inflating: Covid19-dataset/train/Covid/044.jpeg  \n",
            "  inflating: Covid19-dataset/train/Covid/045.jpeg  \n",
            "  inflating: Covid19-dataset/train/Covid/046.jpeg  \n",
            "  inflating: Covid19-dataset/train/Covid/047.jpeg  \n",
            "  inflating: Covid19-dataset/train/Covid/048.jpeg  \n",
            "  inflating: Covid19-dataset/train/Covid/049.jpeg  \n",
            "  inflating: Covid19-dataset/train/Covid/050.jpeg  \n",
            "  inflating: Covid19-dataset/train/Covid/051.jpeg  \n",
            "  inflating: Covid19-dataset/train/Covid/052.jpeg  \n",
            "  inflating: Covid19-dataset/train/Covid/053.jpeg  \n",
            "  inflating: Covid19-dataset/train/Covid/054.jpeg  \n",
            "  inflating: Covid19-dataset/train/Covid/055.jpeg  \n",
            "  inflating: Covid19-dataset/train/Covid/056.jpg  \n",
            "  inflating: Covid19-dataset/train/Covid/057.jpeg  \n",
            "  inflating: Covid19-dataset/train/Covid/058.jpeg  \n",
            "  inflating: Covid19-dataset/train/Covid/059.jpeg  \n",
            "  inflating: Covid19-dataset/train/Covid/06.jpeg  \n",
            "  inflating: Covid19-dataset/train/Covid/060.jpeg  \n",
            "  inflating: Covid19-dataset/train/Covid/061.jpg  \n",
            "  inflating: Covid19-dataset/train/Covid/062.jpeg  \n",
            "  inflating: Covid19-dataset/train/Covid/064.jpg  \n",
            "  inflating: Covid19-dataset/train/Covid/065.jpeg  \n",
            "  inflating: Covid19-dataset/train/Covid/067.jpg  \n",
            "  inflating: Covid19-dataset/train/Covid/068.jpg  \n",
            "  inflating: Covid19-dataset/train/Covid/069.jpg  \n",
            "  inflating: Covid19-dataset/train/Covid/07.jpg  \n",
            "  inflating: Covid19-dataset/train/Covid/071.jpg  \n",
            "  inflating: Covid19-dataset/train/Covid/072.jpeg  \n",
            "  inflating: Covid19-dataset/train/Covid/073.jpg  \n",
            "  inflating: Covid19-dataset/train/Covid/074.jpg  \n",
            "  inflating: Covid19-dataset/train/Covid/076.jpg  \n",
            "  inflating: Covid19-dataset/train/Covid/078.jpeg  \n",
            "  inflating: Covid19-dataset/train/Covid/079.jpeg  \n",
            "  inflating: Covid19-dataset/train/Covid/08.jpeg  \n",
            "  inflating: Covid19-dataset/train/Covid/080.jpg  \n",
            "  inflating: Covid19-dataset/train/Covid/081.jpeg  \n",
            "  inflating: Covid19-dataset/train/Covid/082.jpg  \n",
            "  inflating: Covid19-dataset/train/Covid/083.jpeg  \n",
            "  inflating: Covid19-dataset/train/Covid/084.jpeg  \n",
            "  inflating: Covid19-dataset/train/Covid/085.jpeg  \n",
            "  inflating: Covid19-dataset/train/Covid/086.jpg  \n",
            "  inflating: Covid19-dataset/train/Covid/088.jpeg  \n",
            "  inflating: Covid19-dataset/train/Covid/089.jpg  \n",
            "  inflating: Covid19-dataset/train/Covid/09.png  \n",
            "  inflating: Covid19-dataset/train/Covid/090.jpeg  \n",
            "  inflating: Covid19-dataset/train/Covid/091.jpg  \n",
            "  inflating: Covid19-dataset/train/Covid/092.png  \n",
            "  inflating: Covid19-dataset/train/Covid/COVID-00001.jpg  \n",
            "  inflating: Covid19-dataset/train/Covid/COVID-00002.jpg  \n",
            "  inflating: Covid19-dataset/train/Covid/COVID-00003a.jpg  \n",
            "  inflating: Covid19-dataset/train/Covid/COVID-00003b.jpg  \n",
            "  inflating: Covid19-dataset/train/Covid/COVID-00004.jpg  \n",
            "  inflating: Covid19-dataset/train/Covid/COVID-00005.jpg  \n",
            "  inflating: Covid19-dataset/train/Covid/COVID-00006.jpg  \n",
            "  inflating: Covid19-dataset/train/Covid/COVID-00007.jpg  \n",
            "  inflating: Covid19-dataset/train/Covid/COVID-00008.jpg  \n",
            "  inflating: Covid19-dataset/train/Covid/COVID-00009.jpg  \n",
            "  inflating: Covid19-dataset/train/Covid/COVID-00010.jpg  \n",
            "  inflating: Covid19-dataset/train/Covid/COVID-00011.jpg  \n",
            "  inflating: Covid19-dataset/train/Covid/COVID-00012.jpg  \n",
            "  inflating: Covid19-dataset/train/Covid/COVID-00013a.jpg  \n",
            "  inflating: Covid19-dataset/train/Covid/COVID-00013b.jpg  \n",
            "  inflating: Covid19-dataset/train/Covid/COVID-00014.jpg  \n",
            "  inflating: Covid19-dataset/train/Covid/COVID-00015a.png  \n",
            "  inflating: Covid19-dataset/train/Covid/COVID-00015b.png  \n",
            "  inflating: Covid19-dataset/train/Covid/COVID-00016.jpg  \n",
            "  inflating: Covid19-dataset/train/Covid/COVID-00017.jpg  \n",
            "  inflating: Covid19-dataset/train/Covid/COVID-00018.jpg  \n",
            "  inflating: Covid19-dataset/train/Covid/COVID-00019.jpg  \n",
            "  inflating: Covid19-dataset/train/Covid/COVID-00020.jpg  \n",
            "  inflating: Covid19-dataset/train/Covid/COVID-00021.jpg  \n",
            "  inflating: Covid19-dataset/train/Covid/COVID-00022.jpg  \n",
            "  inflating: Covid19-dataset/train/Covid/COVID-00023.jpg  \n",
            "  inflating: Covid19-dataset/train/Covid/COVID-00024.jpg  \n",
            "  inflating: Covid19-dataset/train/Covid/COVID-00025.jpg  \n",
            "  inflating: Covid19-dataset/train/Covid/COVID-00026.jpg  \n",
            "  inflating: Covid19-dataset/train/Covid/COVID-00027.jpg  \n",
            "  inflating: Covid19-dataset/train/Covid/COVID-00028.jpg  \n",
            "  inflating: Covid19-dataset/train/Covid/COVID-00029.jpg  \n",
            "  inflating: Covid19-dataset/train/Covid/COVID-00030.jpg  \n",
            "  inflating: Covid19-dataset/train/Covid/COVID-00031.jpg  \n",
            "  inflating: Covid19-dataset/train/Covid/COVID-00032.jpg  \n",
            "  inflating: Covid19-dataset/train/Covid/COVID-00033.jpg  \n",
            "  inflating: Covid19-dataset/train/Covid/COVID-00034.jpg  \n",
            "  inflating: Covid19-dataset/train/Covid/COVID-00035.jpg  \n",
            "  inflating: Covid19-dataset/train/Covid/COVID-00036.jpg  \n",
            "  inflating: Covid19-dataset/train/Covid/COVID-00037.jpg  \n",
            "  inflating: Covid19-dataset/train/Covid/COVID-00038.jpg  \n",
            "  inflating: Covid19-dataset/train/Normal/01.jpeg  \n",
            "  inflating: Covid19-dataset/train/Normal/010.jpeg  \n",
            "  inflating: Covid19-dataset/train/Normal/011.jpeg  \n",
            "  inflating: Covid19-dataset/train/Normal/012.jpeg  \n",
            "  inflating: Covid19-dataset/train/Normal/013.jpeg  \n",
            "  inflating: Covid19-dataset/train/Normal/014.jpeg  \n",
            "  inflating: Covid19-dataset/train/Normal/015.jpeg  \n",
            "  inflating: Covid19-dataset/train/Normal/016.jpeg  \n",
            "  inflating: Covid19-dataset/train/Normal/017.jpeg  \n",
            "  inflating: Covid19-dataset/train/Normal/018.jpeg  \n",
            "  inflating: Covid19-dataset/train/Normal/019.jpeg  \n",
            "  inflating: Covid19-dataset/train/Normal/02.jpeg  \n",
            "  inflating: Covid19-dataset/train/Normal/020.jpeg  \n",
            "  inflating: Covid19-dataset/train/Normal/021.jpeg  \n",
            "  inflating: Covid19-dataset/train/Normal/022.jpeg  \n",
            "  inflating: Covid19-dataset/train/Normal/023.jpeg  \n",
            "  inflating: Covid19-dataset/train/Normal/024.jpeg  \n",
            "  inflating: Covid19-dataset/train/Normal/025.jpeg  \n",
            "  inflating: Covid19-dataset/train/Normal/03.jpeg  \n",
            "  inflating: Covid19-dataset/train/Normal/04.jpeg  \n",
            "  inflating: Covid19-dataset/train/Normal/05.jpeg  \n",
            "  inflating: Covid19-dataset/train/Normal/050.jpeg  \n",
            "  inflating: Covid19-dataset/train/Normal/051.jpeg  \n",
            "  inflating: Covid19-dataset/train/Normal/052.jpeg  \n",
            "  inflating: Covid19-dataset/train/Normal/053.jpeg  \n",
            "  inflating: Covid19-dataset/train/Normal/054.jpeg  \n",
            "  inflating: Covid19-dataset/train/Normal/055.jpeg  \n",
            "  inflating: Covid19-dataset/train/Normal/056.jpeg  \n",
            "  inflating: Covid19-dataset/train/Normal/057.jpeg  \n",
            "  inflating: Covid19-dataset/train/Normal/058.jpeg  \n",
            "  inflating: Covid19-dataset/train/Normal/059.jpeg  \n",
            "  inflating: Covid19-dataset/train/Normal/06.jpeg  \n",
            "  inflating: Covid19-dataset/train/Normal/060.jpeg  \n",
            "  inflating: Covid19-dataset/train/Normal/061.jpeg  \n",
            "  inflating: Covid19-dataset/train/Normal/062.jpeg  \n",
            "  inflating: Covid19-dataset/train/Normal/063.jpeg  \n",
            "  inflating: Covid19-dataset/train/Normal/064.jpeg  \n",
            "  inflating: Covid19-dataset/train/Normal/065.jpeg  \n",
            "  inflating: Covid19-dataset/train/Normal/066.jpeg  \n",
            "  inflating: Covid19-dataset/train/Normal/067.jpeg  \n",
            "  inflating: Covid19-dataset/train/Normal/068.jpeg  \n",
            "  inflating: Covid19-dataset/train/Normal/069.jpeg  \n",
            "  inflating: Covid19-dataset/train/Normal/07.jpeg  \n",
            "  inflating: Covid19-dataset/train/Normal/070.jpeg  \n",
            "  inflating: Covid19-dataset/train/Normal/071.jpeg  \n",
            "  inflating: Covid19-dataset/train/Normal/072.jpeg  \n",
            "  inflating: Covid19-dataset/train/Normal/073.jpeg  \n",
            "  inflating: Covid19-dataset/train/Normal/074.jpeg  \n",
            "  inflating: Covid19-dataset/train/Normal/075.jpeg  \n",
            "  inflating: Covid19-dataset/train/Normal/076.jpeg  \n",
            "  inflating: Covid19-dataset/train/Normal/077.jpeg  \n",
            "  inflating: Covid19-dataset/train/Normal/079.jpeg  \n",
            "  inflating: Covid19-dataset/train/Normal/08.jpeg  \n",
            "  inflating: Covid19-dataset/train/Normal/080.jpeg  \n",
            "  inflating: Covid19-dataset/train/Normal/081.jpeg  \n",
            "  inflating: Covid19-dataset/train/Normal/082.jpeg  \n",
            "  inflating: Covid19-dataset/train/Normal/083.jpeg  \n",
            "  inflating: Covid19-dataset/train/Normal/084.jpeg  \n",
            "  inflating: Covid19-dataset/train/Normal/085.jpeg  \n",
            "  inflating: Covid19-dataset/train/Normal/086.jpeg  \n",
            "  inflating: Covid19-dataset/train/Normal/087.jpeg  \n",
            "  inflating: Covid19-dataset/train/Normal/088.jpeg  \n",
            "  inflating: Covid19-dataset/train/Normal/09.jpeg  \n",
            "  inflating: Covid19-dataset/train/Normal/091.jpeg  \n",
            "  inflating: Covid19-dataset/train/Normal/092.jpeg  \n",
            "  inflating: Covid19-dataset/train/Normal/093.jpeg  \n",
            "  inflating: Covid19-dataset/train/Normal/094.jpeg  \n",
            "  inflating: Covid19-dataset/train/Normal/095.jpeg  \n",
            "  inflating: Covid19-dataset/train/Normal/096.jpeg  \n",
            "  inflating: Covid19-dataset/train/Normal/097.jpeg  \n",
            "  inflating: Covid19-dataset/train/Viral Pneumonia/01.jpeg  \n",
            "  inflating: Covid19-dataset/train/Viral Pneumonia/010.jpeg  \n",
            "  inflating: Covid19-dataset/train/Viral Pneumonia/011.jpeg  \n",
            "  inflating: Covid19-dataset/train/Viral Pneumonia/012.jpeg  \n",
            "  inflating: Covid19-dataset/train/Viral Pneumonia/013.jpeg  \n",
            "  inflating: Covid19-dataset/train/Viral Pneumonia/016.jpeg  \n",
            "  inflating: Covid19-dataset/train/Viral Pneumonia/018.jpeg  \n",
            "  inflating: Covid19-dataset/train/Viral Pneumonia/019.jpeg  \n",
            "  inflating: Covid19-dataset/train/Viral Pneumonia/02.jpeg  \n",
            "  inflating: Covid19-dataset/train/Viral Pneumonia/020.jpeg  \n",
            "  inflating: Covid19-dataset/train/Viral Pneumonia/021.jpeg  \n",
            "  inflating: Covid19-dataset/train/Viral Pneumonia/022.jpeg  \n",
            "  inflating: Covid19-dataset/train/Viral Pneumonia/023.jpeg  \n",
            "  inflating: Covid19-dataset/train/Viral Pneumonia/024.jpeg  \n",
            "  inflating: Covid19-dataset/train/Viral Pneumonia/025.jpeg  \n",
            "  inflating: Covid19-dataset/train/Viral Pneumonia/027.jpeg  \n",
            "  inflating: Covid19-dataset/train/Viral Pneumonia/03.jpeg  \n",
            "  inflating: Covid19-dataset/train/Viral Pneumonia/031.jpeg  \n",
            "  inflating: Covid19-dataset/train/Viral Pneumonia/032.jpeg  \n",
            "  inflating: Covid19-dataset/train/Viral Pneumonia/033.jpeg  \n",
            "  inflating: Covid19-dataset/train/Viral Pneumonia/034.jpeg  \n",
            "  inflating: Covid19-dataset/train/Viral Pneumonia/035.jpeg  \n",
            "  inflating: Covid19-dataset/train/Viral Pneumonia/036.jpeg  \n",
            "  inflating: Covid19-dataset/train/Viral Pneumonia/037.jpeg  \n",
            "  inflating: Covid19-dataset/train/Viral Pneumonia/038.jpeg  \n",
            "  inflating: Covid19-dataset/train/Viral Pneumonia/04.jpeg  \n",
            "  inflating: Covid19-dataset/train/Viral Pneumonia/041.jpeg  \n",
            "  inflating: Covid19-dataset/train/Viral Pneumonia/042.jpeg  \n",
            "  inflating: Covid19-dataset/train/Viral Pneumonia/043.jpeg  \n",
            "  inflating: Covid19-dataset/train/Viral Pneumonia/044.jpeg  \n",
            "  inflating: Covid19-dataset/train/Viral Pneumonia/045.jpeg  \n",
            "  inflating: Covid19-dataset/train/Viral Pneumonia/046.jpeg  \n",
            "  inflating: Covid19-dataset/train/Viral Pneumonia/047.jpeg  \n",
            "  inflating: Covid19-dataset/train/Viral Pneumonia/048.jpeg  \n",
            "  inflating: Covid19-dataset/train/Viral Pneumonia/05.jpeg  \n",
            "  inflating: Covid19-dataset/train/Viral Pneumonia/051.jpeg  \n",
            "  inflating: Covid19-dataset/train/Viral Pneumonia/052.jpeg  \n",
            "  inflating: Covid19-dataset/train/Viral Pneumonia/053.jpeg  \n",
            "  inflating: Covid19-dataset/train/Viral Pneumonia/054.jpeg  \n",
            "  inflating: Covid19-dataset/train/Viral Pneumonia/055.jpeg  \n",
            "  inflating: Covid19-dataset/train/Viral Pneumonia/056.jpeg  \n",
            "  inflating: Covid19-dataset/train/Viral Pneumonia/057.jpeg  \n",
            "  inflating: Covid19-dataset/train/Viral Pneumonia/058.jpeg  \n",
            "  inflating: Covid19-dataset/train/Viral Pneumonia/06.jpeg  \n",
            "  inflating: Covid19-dataset/train/Viral Pneumonia/061.jpeg  \n",
            "  inflating: Covid19-dataset/train/Viral Pneumonia/062.jpeg  \n",
            "  inflating: Covid19-dataset/train/Viral Pneumonia/063.jpeg  \n",
            "  inflating: Covid19-dataset/train/Viral Pneumonia/064.jpeg  \n",
            "  inflating: Covid19-dataset/train/Viral Pneumonia/065.jpeg  \n",
            "  inflating: Covid19-dataset/train/Viral Pneumonia/066.jpeg  \n",
            "  inflating: Covid19-dataset/train/Viral Pneumonia/067.jpeg  \n",
            "  inflating: Covid19-dataset/train/Viral Pneumonia/068.jpeg  \n",
            "  inflating: Covid19-dataset/train/Viral Pneumonia/07.jpeg  \n",
            "  inflating: Covid19-dataset/train/Viral Pneumonia/071.jpeg  \n",
            "  inflating: Covid19-dataset/train/Viral Pneumonia/072.jpeg  \n",
            "  inflating: Covid19-dataset/train/Viral Pneumonia/073.jpeg  \n",
            "  inflating: Covid19-dataset/train/Viral Pneumonia/074.jpeg  \n",
            "  inflating: Covid19-dataset/train/Viral Pneumonia/075.jpeg  \n",
            "  inflating: Covid19-dataset/train/Viral Pneumonia/076.jpeg  \n",
            "  inflating: Covid19-dataset/train/Viral Pneumonia/077.jpeg  \n",
            "  inflating: Covid19-dataset/train/Viral Pneumonia/078.jpeg  \n",
            "  inflating: Covid19-dataset/train/Viral Pneumonia/08.jpeg  \n",
            "  inflating: Covid19-dataset/train/Viral Pneumonia/081.jpeg  \n",
            "  inflating: Covid19-dataset/train/Viral Pneumonia/082.jpeg  \n",
            "  inflating: Covid19-dataset/train/Viral Pneumonia/083.jpeg  \n",
            "  inflating: Covid19-dataset/train/Viral Pneumonia/084.jpeg  \n",
            "  inflating: Covid19-dataset/train/Viral Pneumonia/09.jpeg  \n",
            "  inflating: Covid19-dataset/train/Viral Pneumonia/094.jpeg  \n",
            "  inflating: Covid19-dataset/train/Viral Pneumonia/095.jpeg  \n",
            "  inflating: Covid19-dataset/train/Viral Pneumonia/096.jpeg  \n"
          ]
        }
      ],
      "source": [
        "! kaggle datasets download -d pranavraikokte/covid19-image-dataset\n",
        "! unzip covid19-image-dataset.zip\n"
      ]
    },
    {
      "cell_type": "code",
      "execution_count": 26,
      "metadata": {
        "id": "gCFui6AqqHrm"
      },
      "outputs": [],
      "source": [
        "import cv2\n",
        "import glob\n",
        "import matplotlib.pyplot as plt\n",
        "import numpy as np\n",
        "\n",
        "import keras \n",
        "from keras.models import *\n",
        "from keras.layers import Dense\n",
        "from google.colab.patches import cv2_imshow\n",
        "from keras.callbacks import EarlyStopping"
      ]
    },
    {
      "cell_type": "code",
      "execution_count": 27,
      "metadata": {
        "colab": {
          "base_uri": "https://localhost:8080/"
        },
        "id": "uo7LtK6Iuqld",
        "outputId": "b751ee34-62bd-42e6-979b-711594aa6400"
      },
      "outputs": [
        {
          "output_type": "stream",
          "name": "stdout",
          "text": [
            "(1165, 1165)\n",
            "(1828, 2251)\n"
          ]
        }
      ],
      "source": [
        "#load train data\n",
        "covid_train = [cv2.imread(file,cv2.IMREAD_GRAYSCALE) for file in glob.glob('/content/Covid19-dataset/train/Covid/*')]\n",
        "print(covid_train[0].shape)\n",
        "\n",
        "normal_train = [cv2.imread(file,cv2.IMREAD_GRAYSCALE) for file in glob.glob('/content/Covid19-dataset/train/Normal/*')]\n",
        "print(normal_train[0].shape)"
      ]
    },
    {
      "cell_type": "code",
      "execution_count": 28,
      "metadata": {
        "id": "gVixXmANrMKm"
      },
      "outputs": [],
      "source": [
        "#load test data \n",
        "covid_test = [cv2.imread(file,cv2.IMREAD_GRAYSCALE) for file in glob.glob('/content/Covid19-dataset/test/Covid/*')]\n",
        "normal_test= [cv2.imread(file,cv2.IMREAD_GRAYSCALE) for file in glob.glob('/content/Covid19-dataset/test/Normal/*')]\n"
      ]
    },
    {
      "cell_type": "code",
      "execution_count": 29,
      "metadata": {
        "colab": {
          "base_uri": "https://localhost:8080/",
          "height": 358
        },
        "id": "n5b92CSXyIqc",
        "outputId": "f79771f0-60a3-419f-db90-ba1d7bf839c3"
      },
      "outputs": [
        {
          "output_type": "display_data",
          "data": {
            "text/plain": [
              "<Figure size 432x288 with 1 Axes>"
            ],
            "image/png": "[encoded data removed]"
          },
          "metadata": {
            "needs_background": "light"
          }
        },
        {
          "output_type": "stream",
          "name": "stdout",
          "text": [
            "20\n",
            "(20,)\n"
          ]
        },
        {
          "output_type": "stream",
          "name": "stderr",
          "text": [
            "/usr/local/lib/python3.7/dist-packages/ipykernel_launcher.py:4: VisibleDeprecationWarning: Creating an ndarray from ragged nested sequences (which is a list-or-tuple of lists-or-tuples-or ndarrays with different lengths or shapes) is deprecated. If you meant to do this, you must specify 'dtype=object' when creating the ndarray.\n",
            "  after removing the cwd from sys.path.\n"
          ]
        }
      ],
      "source": [
        "plt.imshow(normal_train[0],cmap='gray') \n",
        "plt.show()  # display it\n",
        "print(len(normal_test))\n",
        "print(np.array(normal_test).shape)\n",
        "\n",
        "\n"
      ]
    },
    {
      "cell_type": "code",
      "execution_count": 8,
      "metadata": {
        "colab": {
          "base_uri": "https://localhost:8080/"
        },
        "id": "Eyagmt3T7x1L",
        "outputId": "92b0289a-4fb2-442f-bee5-96fcef61ef74"
      },
      "outputs": [
        {
          "output_type": "stream",
          "name": "stdout",
          "text": [
            "111\n",
            "70\n"
          ]
        }
      ],
      "source": [
        "print(len(covid_train))\n",
        "print(len(normal_train))"
      ]
    },
    {
      "cell_type": "code",
      "execution_count": 9,
      "metadata": {
        "colab": {
          "base_uri": "https://localhost:8080/"
        },
        "id": "s6pCDGBy1Bk8",
        "outputId": "08a3e0b9-a1c2-4179-e68f-15cc6465bfe7"
      },
      "outputs": [
        {
          "output_type": "stream",
          "name": "stdout",
          "text": [
            "181\n",
            "181\n",
            "(1165, 1165)\n",
            "(181,)\n"
          ]
        },
        {
          "output_type": "stream",
          "name": "stderr",
          "text": [
            "/usr/local/lib/python3.7/dist-packages/ipykernel_launcher.py:20: VisibleDeprecationWarning: Creating an ndarray from ragged nested sequences (which is a list-or-tuple of lists-or-tuples-or ndarrays with different lengths or shapes) is deprecated. If you meant to do this, you must specify 'dtype=object' when creating the ndarray.\n"
          ]
        }
      ],
      "source": [
        "#collect train data, create y_\n",
        "x_train=[]\n",
        "x_train=covid_train \n",
        "\n",
        "\n",
        "for x in normal_train:\n",
        "  x_train.append(x)\n",
        "\n",
        "y_train=[]\n",
        "for i in range(0,111):\n",
        "  y_train.append(1)\n",
        "\n",
        "for i in range(111,181):\n",
        "  y_train.append(0)\n",
        "\n",
        "\n",
        "\n",
        "print(len(x_train))\n",
        "print(len(y_train))\n",
        "x_train_arr=np.array(x_train)\n",
        "print(x_train_arr[0].shape)\n",
        "print(x_train_arr.shape)\n"
      ]
    },
    {
      "cell_type": "code",
      "execution_count": 10,
      "metadata": {
        "colab": {
          "base_uri": "https://localhost:8080/"
        },
        "id": "LznJdIVm9BCc",
        "outputId": "9795e14f-56c8-4ee6-d914-b43477ad8337"
      },
      "outputs": [
        {
          "output_type": "stream",
          "name": "stdout",
          "text": [
            "26\n",
            "20\n"
          ]
        }
      ],
      "source": [
        "print(len(covid_test))\n",
        "print(len(normal_test))"
      ]
    },
    {
      "cell_type": "code",
      "execution_count": 11,
      "metadata": {
        "colab": {
          "base_uri": "https://localhost:8080/"
        },
        "id": "ECeo2bbr9E0L",
        "outputId": "385243c2-588c-474a-eebe-3eb319cf9373"
      },
      "outputs": [
        {
          "output_type": "stream",
          "name": "stdout",
          "text": [
            "46\n",
            "46\n",
            "(46,)\n"
          ]
        },
        {
          "output_type": "stream",
          "name": "stderr",
          "text": [
            "/usr/local/lib/python3.7/dist-packages/ipykernel_launcher.py:19: VisibleDeprecationWarning: Creating an ndarray from ragged nested sequences (which is a list-or-tuple of lists-or-tuples-or ndarrays with different lengths or shapes) is deprecated. If you meant to do this, you must specify 'dtype=object' when creating the ndarray.\n"
          ]
        }
      ],
      "source": [
        "x_test=[]\n",
        "x_test=covid_test\n",
        "\n",
        "\n",
        "for x in normal_test:\n",
        "  x_test.append(x)\n",
        "\n",
        "y_test=[]\n",
        "for i in range(0,26):\n",
        "  y_test.append(1)\n",
        "\n",
        "for i in range(26,46):\n",
        "  y_test.append(0)\n",
        "\n",
        "\n",
        "\n",
        "print(len(x_test))\n",
        "print(len(y_test))\n",
        "x_test_arr=np.array(x_test)\n",
        "print(x_test_arr.shape)\n",
        "#IM HERE"
      ]
    },
    {
      "cell_type": "code",
      "execution_count": 12,
      "metadata": {
        "id": "0RrJ4B423438"
      },
      "outputs": [],
      "source": [
        "#resizing\n",
        "x_train_resized=[]\n",
        "x_test_resized=[]\n",
        "for i in range(0,181):\n",
        "  x_train_resized.append( cv2.resize(x_train_arr[i],(240,240)))\n",
        "\n",
        "for i in range(0,46):\n",
        "  x_test_resized.append( cv2.resize(x_test_arr[i],(240,240)))\n",
        "\n"
      ]
    },
    {
      "cell_type": "code",
      "execution_count": 13,
      "metadata": {
        "colab": {
          "base_uri": "https://localhost:8080/"
        },
        "id": "k0vSUtUIGVPp",
        "outputId": "8e4099e5-71fb-48d7-cdd2-44cc9902151d"
      },
      "outputs": [
        {
          "output_type": "stream",
          "name": "stdout",
          "text": [
            "181\n",
            "46\n"
          ]
        }
      ],
      "source": [
        "\n",
        "print(len(x_train_resized))\n",
        "print(len(x_test_resized))\n",
        "\n"
      ]
    },
    {
      "cell_type": "code",
      "execution_count": 14,
      "metadata": {
        "colab": {
          "base_uri": "https://localhost:8080/"
        },
        "id": "5j_KiQYlqtQi",
        "outputId": "a3400934-5d86-40fd-fede-9cad362893f9"
      },
      "outputs": [
        {
          "output_type": "stream",
          "name": "stdout",
          "text": [
            "46\n"
          ]
        }
      ],
      "source": [
        "#convert lists to np arrays\n",
        "x_train_resized[0].shape\n",
        "x_train_final=np.array(x_train_resized)\n",
        "x_test_final=np.array(x_test_resized)\n",
        "print(len(x_test_final))\n"
      ]
    },
    {
      "cell_type": "code",
      "execution_count": 15,
      "metadata": {
        "id": "772G3Qx3ijf0"
      },
      "outputs": [],
      "source": [
        "#re shapping\n",
        "x_train_final=x_train_final.reshape(-1,240*240)\n",
        "x_test_final=x_test_final.reshape(-1,240*240)\n",
        "x_train_final.shape\n",
        "\n",
        "y_train=np.array(y_train)\n",
        "y_test=np.array(y_test)\n",
        "#print(len(x_test_final))"
      ]
    },
    {
      "cell_type": "code",
      "execution_count": 38,
      "metadata": {
        "id": "Bke9yOaBJ4M4"
      },
      "outputs": [],
      "source": [
        "#modling\n",
        "model = keras.Sequential()\n",
        "model.add(keras.layers.Dense(1,input_shape=(240*240,), activation=\"sigmoid\"))\n",
        "model.compile(loss='binary_crossentropy',optimizer='sgd',metrics=['accuracy'])\n"
      ]
    },
    {
      "cell_type": "code",
      "execution_count": 41,
      "metadata": {
        "colab": {
          "base_uri": "https://localhost:8080/"
        },
        "id": "aTF7jGsxKFfQ",
        "outputId": "e8345048-e633-444d-9a9c-ca0f59b9cdf1"
      },
      "outputs": [
        {
          "output_type": "stream",
          "name": "stdout",
          "text": [
            "Epoch 1/100\n",
            "6/6 [==============================] - 0s 20ms/step - loss: 291786.1250 - accuracy: 0.7127 - val_loss: 34578.9766 - val_accuracy: 0.9130\n",
            "Epoch 2/100\n",
            "6/6 [==============================] - 0s 14ms/step - loss: 29364.9688 - accuracy: 0.9227 - val_loss: 26695.9219 - val_accuracy: 0.9565\n",
            "Epoch 3/100\n",
            "6/6 [==============================] - 0s 18ms/step - loss: 18373.0645 - accuracy: 0.9613 - val_loss: 55671.6641 - val_accuracy: 0.9130\n",
            "Epoch 4/100\n",
            "6/6 [==============================] - 0s 14ms/step - loss: 15632.9834 - accuracy: 0.9724 - val_loss: 29866.9043 - val_accuracy: 0.9348\n",
            "Epoch 5/100\n",
            "6/6 [==============================] - 0s 15ms/step - loss: 15190.4365 - accuracy: 0.9724 - val_loss: 21303.2344 - val_accuracy: 0.9783\n",
            "Epoch 6/100\n",
            "6/6 [==============================] - 0s 15ms/step - loss: 14996.0371 - accuracy: 0.9503 - val_loss: 53616.6094 - val_accuracy: 0.9130\n",
            "Epoch 7/100\n",
            "6/6 [==============================] - 0s 17ms/step - loss: 7423.7944 - accuracy: 0.9779 - val_loss: 73172.8594 - val_accuracy: 0.9130\n",
            "Epoch 8/100\n",
            "6/6 [==============================] - 0s 16ms/step - loss: 12098.6611 - accuracy: 0.9724 - val_loss: 31424.9121 - val_accuracy: 0.9348\n",
            "Epoch 9/100\n",
            "6/6 [==============================] - 0s 13ms/step - loss: 6906.5229 - accuracy: 0.9779 - val_loss: 31012.9629 - val_accuracy: 0.9348\n",
            "Epoch 10/100\n",
            "6/6 [==============================] - 0s 14ms/step - loss: 7497.9736 - accuracy: 0.9834 - val_loss: 68874.4375 - val_accuracy: 0.9130\n",
            "Epoch 11/100\n",
            "6/6 [==============================] - 0s 16ms/step - loss: 5904.3833 - accuracy: 0.9779 - val_loss: 20343.3887 - val_accuracy: 0.9783\n",
            "Epoch 12/100\n",
            "6/6 [==============================] - 0s 15ms/step - loss: 8492.6455 - accuracy: 0.9834 - val_loss: 28601.9258 - val_accuracy: 0.9348\n",
            "Epoch 13/100\n",
            "6/6 [==============================] - 0s 15ms/step - loss: 2479.4268 - accuracy: 0.9779 - val_loss: 94425.4531 - val_accuracy: 0.9130\n",
            "Epoch 14/100\n",
            "6/6 [==============================] - 0s 17ms/step - loss: 13379.4697 - accuracy: 0.9613 - val_loss: 23572.5430 - val_accuracy: 0.9783\n",
            "Epoch 15/100\n",
            "6/6 [==============================] - 0s 15ms/step - loss: 4260.5669 - accuracy: 0.9834 - val_loss: 48710.3047 - val_accuracy: 0.9130\n",
            "Epoch 16/100\n",
            "6/6 [==============================] - 0s 14ms/step - loss: 10109.0430 - accuracy: 0.9613 - val_loss: 26139.1660 - val_accuracy: 0.9783\n",
            "Epoch 17/100\n",
            "6/6 [==============================] - 0s 17ms/step - loss: 2149.7957 - accuracy: 0.9945 - val_loss: 45110.0117 - val_accuracy: 0.9348\n",
            "Epoch 18/100\n",
            "6/6 [==============================] - 0s 14ms/step - loss: 2625.6794 - accuracy: 0.9890 - val_loss: 44731.8008 - val_accuracy: 0.9348\n",
            "Epoch 19/100\n",
            "6/6 [==============================] - 0s 14ms/step - loss: 12753.8057 - accuracy: 0.9503 - val_loss: 26022.4453 - val_accuracy: 0.9783\n",
            "Epoch 20/100\n",
            "6/6 [==============================] - 0s 15ms/step - loss: 2654.3633 - accuracy: 0.9890 - val_loss: 25972.9355 - val_accuracy: 0.9783\n",
            "Epoch 21/100\n",
            "6/6 [==============================] - 0s 15ms/step - loss: 2022.9779 - accuracy: 0.9890 - val_loss: 25557.9570 - val_accuracy: 0.9783\n",
            "Epoch 22/100\n",
            "6/6 [==============================] - 0s 17ms/step - loss: 3823.4717 - accuracy: 0.9779 - val_loss: 24866.9180 - val_accuracy: 0.9783\n",
            "Epoch 23/100\n",
            "6/6 [==============================] - 0s 13ms/step - loss: 1742.1520 - accuracy: 0.9890 - val_loss: 24249.2422 - val_accuracy: 0.9783\n",
            "Epoch 24/100\n",
            "6/6 [==============================] - 0s 16ms/step - loss: 7521.7539 - accuracy: 0.9558 - val_loss: 26222.7793 - val_accuracy: 0.9783\n",
            "Epoch 25/100\n",
            "6/6 [==============================] - 0s 17ms/step - loss: 1960.9441 - accuracy: 0.9779 - val_loss: 21768.1660 - val_accuracy: 0.9783\n",
            "Epoch 26/100\n",
            "6/6 [==============================] - 0s 16ms/step - loss: 2024.2037 - accuracy: 0.9945 - val_loss: 29309.4570 - val_accuracy: 0.9348\n"
          ]
        }
      ],
      "source": [
        "results = model.fit(x_train_final,y_train,shuffle=True,epochs=100,verbose=1,validation_data=(x_test_final,y_test),\n",
        "                    callbacks=keras.callbacks.EarlyStopping(patience=15,restore_best_weights=True)) \n",
        "\n"
      ]
    },
    {
      "cell_type": "code",
      "source": [
        "model.evaluate(x_test_final,y_test)"
      ],
      "metadata": {
        "colab": {
          "base_uri": "https://localhost:8080/"
        },
        "id": "9hwOfVy0QgsD",
        "outputId": "aff5381e-1701-43aa-b63f-42132c4bbb56"
      },
      "execution_count": 42,
      "outputs": [
        {
          "output_type": "stream",
          "name": "stdout",
          "text": [
            "2/2 [==============================] - 0s 9ms/step - loss: 20343.3887 - accuracy: 0.9783\n"
          ]
        },
        {
          "output_type": "execute_result",
          "data": {
            "text/plain": [
              "[20343.388671875, 0.97826087474823]"
            ]
          },
          "metadata": {},
          "execution_count": 42
        }
      ]
    },
    {
      "cell_type": "code",
      "source": [
        "model.summary()"
      ],
      "metadata": {
        "colab": {
          "base_uri": "https://localhost:8080/"
        },
        "id": "2X-XuFw9Qw7q",
        "outputId": "666baa67-cd1b-4b9b-b17c-316c5d6a80a9"
      },
      "execution_count": 21,
      "outputs": [
        {
          "output_type": "stream",
          "name": "stdout",
          "text": [
            "Model: \"sequential\"\n",
            "_________________________________________________________________\n",
            " Layer (type)                Output Shape              Param #   \n",
            "=================================================================\n",
            " dense (Dense)               (None, 1)                 57601     \n",
            "                                                                 \n",
            "=================================================================\n",
            "Total params: 57,601\n",
            "Trainable params: 57,601\n",
            "Non-trainable params: 0\n",
            "_________________________________________________________________\n"
          ]
        }
      ]
    },
    {
      "cell_type": "code",
      "execution_count": 43,
      "metadata": {
        "colab": {
          "base_uri": "https://localhost:8080/",
          "height": 312
        },
        "id": "YdNadk6J2LM1",
        "outputId": "bb09fc2a-8370-48c7-e1be-31738083af62"
      },
      "outputs": [
        {
          "output_type": "execute_result",
          "data": {
            "text/plain": [
              "Text(0, 0.5, 'losses')"
            ]
          },
          "metadata": {},
          "execution_count": 43
        },
        {
          "output_type": "display_data",
          "data": {
            "text/plain": [
              "<Figure size 432x288 with 1 Axes>"
            ],
            "image/png": "[encoded data removed]"
          },
          "metadata": {
            "needs_background": "light"
          }
        }
      ],
      "source": [
        "import matplotlib.pyplot as plt\n",
        "plt.plot(results.history['loss'])\n",
        "plt.plot(results.history['val_loss'])\n",
        "plt.legend(['Training','Vaildation'])\n",
        "plt.title('Training and Validation Losses')\n",
        "plt.xlabel('epoches')\n",
        "plt.ylabel('losses')"
      ]
    },
    {
      "cell_type": "code",
      "source": [
        "import matplotlib.pyplot as plt\n",
        "plt.plot(results.history['accuracy'])\n",
        "plt.plot(results.history['val_accuracy'])\n",
        "plt.legend(['Training','Vaildation'])\n",
        "plt.title('Training and Validation Accuracy')\n",
        "plt.xlabel('epoches')\n",
        "plt.ylabel('accuracy')"
      ],
      "metadata": {
        "colab": {
          "base_uri": "https://localhost:8080/",
          "height": 312
        },
        "id": "1C65Bwcy-8mq",
        "outputId": "9ce2b999-3b2e-48c8-ccbb-51e6c38c937a"
      },
      "execution_count": 44,
      "outputs": [
        {
          "output_type": "execute_result",
          "data": {
            "text/plain": [
              "Text(0, 0.5, 'accuracy')"
            ]
          },
          "metadata": {},
          "execution_count": 44
        },
        {
          "output_type": "display_data",
          "data": {
            "text/plain": [
              "<Figure size 432x288 with 1 Axes>"
            ],
            "image/png": "[encoded data removed]"
          },
          "metadata": {
            "needs_background": "light"
          }
        }
      ]
    }
  ],
  "metadata": {
    "accelerator": "TPU",
    "colab": {
      "collapsed_sections": [],
      "provenance": []
    },
    "gpuClass": "standard",
    "kernelspec": {
      "display_name": "Python 3",
      "name": "python3"
    },
    "language_info": {
      "name": "python"
    }
  },
  "nbformat": 4,
  "nbformat_minor": 0
}